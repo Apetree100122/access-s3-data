{
 "cells": [
  {
   "cell_type": "code",
   "execution_count": null,
   "metadata": {
    "ExecuteTime": {
     "end_time": "2021-02-12T22:53:34.101058Z",
     "start_time": "2021-02-12T22:53:34.080144Z"
    }
   },
   "outputs": [],
   "source": [
    "!pip install -r requirements.txt"
   ]
  },
  {
   "cell_type": "code",
   "execution_count": null,
   "metadata": {},
   "outputs": [],
   "source": [
    "import os\n",
    "import pandas as pd"
   ]
  },
  {
   "cell_type": "code",
   "execution_count": null,
   "metadata": {},
   "outputs": [],
   "source": [
    "#lets load a csv file and place the contents into a pandas dataframe 'df'\n",
    "\n",
    "file_name = 'newtruckdata2.csv'\n",
    "df = pd.read_csv(file_name)"
   ]
  },
  {
   "cell_type": "code",
   "execution_count": null,
   "metadata": {},
   "outputs": [],
   "source": [
    "#Next, lets see what data is stored in this csv file.  You should see 3 columns:  date, trucktype, mileage\n",
    "\n",
    "print(df)\n",
    "print(df.mileage)"
   ]
  },
  {
   "cell_type": "code",
   "execution_count": null,
   "metadata": {},
   "outputs": [],
   "source": [
    "#Finally, let's take the data we have and perform some simple statistics.  We want to know the total mileage, total rows in this csv file, and the average mileage of all the data\n",
    "\n",
    "total_mileage = sum(df.mileage)  #or total_mileage = dset['mileage'].sum()\n",
    "print(total_mileage)\n",
    "\n",
    "total_rows = len(df.index)\n",
    "print(total_rows)\n",
    "\n",
    "average_mileage = (total_mileage/total_rows)\n",
    "print(average_mileage)"
   ]
  },
  {
   "cell_type": "markdown",
   "metadata": {},
   "source": [
    "Congratulations!  You have used a Jupyter Notebook to analyze a small dataset and gleam meaningful insights :)"
   ]
  }
 ],
 "metadata": {
  "kernelspec": {
   "display_name": "Python 3",
   "language": "python",
   "name": "python3"
  },
  "language_info": {
   "codemirror_mode": {
    "name": "ipython",
    "version": 3
   },
   "file_extension": ".py",
   "mimetype": "text/x-python",
   "name": "python",
   "nbconvert_exporter": "python",
   "pygments_lexer": "ipython3",
   "version": "3.8.3"
  },
  "toc": {
   "base_numbering": 1,
   "nav_menu": {},
   "number_sections": true,
   "sideBar": true,
   "skip_h1_title": false,
   "title_cell": "Table of Contents",
   "title_sidebar": "Contents",
   "toc_cell": false,
   "toc_position": {},
   "toc_section_display": true,
   "toc_window_display": false
  }
 },
 "nbformat": 4,
 "nbformat_minor": 4
}
